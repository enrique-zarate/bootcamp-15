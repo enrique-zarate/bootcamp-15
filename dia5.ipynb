{
 "cells": [
  {
   "cell_type": "code",
   "execution_count": null,
   "metadata": {},
   "outputs": [],
   "source": []
  },
  {
   "attachments": {},
   "cell_type": "markdown",
   "metadata": {},
   "source": [
    "# Programacion Orientada a Objetos\n",
    "### POO\n",
    "### OOP"
   ]
  },
  {
   "attachments": {},
   "cell_type": "markdown",
   "metadata": {},
   "source": [
    "Dejar de pensar en funciones, y empezar a pensar en Objetos"
   ]
  },
  {
   "attachments": {},
   "cell_type": "markdown",
   "metadata": {},
   "source": [
    "## Objeto: una represantacion de algo de la vida\n",
    "Puede ser:\n",
    "- Físico: manzana, persona, cliente, cajero, usuario\n",
    "- Conceptuales: sesión, cuenta bancaria\n",
    "\n",
    "## Un objeto posee dos cosas:\n",
    "- Atributos (caraterísticas del objetos): color, peso, precio, textura\n",
    "- Propiedades (acciones): te alimenta, te nutre, te da energía"
   ]
  },
  {
   "attachments": {},
   "cell_type": "markdown",
   "metadata": {},
   "source": [
    "Fruta()"
   ]
  },
  {
   "cell_type": "code",
   "execution_count": null,
   "metadata": {},
   "outputs": [],
   "source": [
    "Fruta()     # un sustantivo"
   ]
  },
  {
   "attachments": {},
   "cell_type": "markdown",
   "metadata": {},
   "source": [
    "# Una clase es un molde\n",
    "# El objeto es la cosa en si "
   ]
  },
  {
   "cell_type": "code",
   "execution_count": 7,
   "metadata": {},
   "outputs": [],
   "source": [
    "class Fruta():      # primera letra, en mayuscula\n",
    "    # los atributos\n",
    "    color = \"verde\"\n",
    "    peso_en_gramos = 120\n",
    "\n",
    "    # Las propiedades (funciones de Python)\n",
    "    def te_alimenta(self):      # por defecto, se le pasa self\n",
    "        print(\"Mas 15 de proteinas\")"
   ]
  },
  {
   "attachments": {},
   "cell_type": "markdown",
   "metadata": {},
   "source": [
    "## Usamos el molde, para instanciar el objeto Fruta"
   ]
  },
  {
   "cell_type": "code",
   "execution_count": 8,
   "metadata": {},
   "outputs": [
    {
     "name": "stdout",
     "output_type": "stream",
     "text": [
      "verde\n",
      "Mas 15 de proteinas\n",
      "Mas 15 de proteinas\n",
      "Te alimenta\n"
     ]
    }
   ],
   "source": [
    "manzana = Fruta()  # manzana es una variable (objeto) del tipo Fruta\n",
    "saludo = 50\n",
    "lista = []\n",
    "\n",
    "# Se me desbloquean los atributos y propiedades de Fruta()\n",
    "\n",
    "print(manzana.color)\n",
    "\n",
    "# Asi como las listas, el objeto Fruta, tambien posee propiedades\n",
    "lista.append(\"Hola\")\n",
    "manzana.te_alimenta()\n",
    "\n",
    "# La forma fachera (nueva)\n",
    "manzana.te_alimenta()\n",
    "\n",
    "# La forma vieja\n",
    "fruta = \"Manzana\"\n",
    "if fruta == \"Manzana\":\n",
    "    print(\"Te alimenta\")\n"
   ]
  },
  {
   "cell_type": "code",
   "execution_count": null,
   "metadata": {},
   "outputs": [],
   "source": []
  },
  {
   "attachments": {},
   "cell_type": "markdown",
   "metadata": {},
   "source": [
    "## Challenge - 15 min 🤺\n",
    "\n",
    "Crear dos clases de animales que tengan atributos y propiedades.\n",
    "\n",
    "- Atributos de clase: `especie`.\n",
    "- Propiedades (trucos): `caminar` & `saltar`.\n",
    "\n",
    "Luego, crear nuevos **objetos** a partir de las nueva **class**. \n",
    "Imprimir la especie de los animales en una frase que diga: \"Me llamo Pepe y soy un `{especie}` y hago dos trucos (propiedades)`\"."
   ]
  },
  {
   "attachments": {},
   "cell_type": "markdown",
   "metadata": {},
   "source": [
    "# Solucion de Fifi ✨"
   ]
  },
  {
   "cell_type": "code",
   "execution_count": null,
   "metadata": {},
   "outputs": [],
   "source": [
    "class Animales():\n",
    "    especie= \"canino\" \n",
    "\n",
    "    def caminar (self):\n",
    "        return (\"se caminar\")\n",
    "    def saltar (self):\n",
    "        return (\"se saltar\")\n",
    "\n",
    "class Animalitos():\n",
    "    especie= \"felino\" \n",
    "\n",
    "    def caminar (self):\n",
    "        return (\"se caminar\")\n",
    "    def saltar (self):\n",
    "        return (\"se saltar\")\n",
    "\n",
    "perro = Animales()\n",
    "gato = Animalitos()\n",
    "\n",
    "print(f\"Hola soy guagui y soy un {Animales.especie} y {perro.caminar()} y {perro.saltar()}\")\n",
    "print(f\"Hola soy michi y soy un {Animalitos.especie} y {gato.caminar()} y {gato.saltar()}\")"
   ]
  },
  {
   "attachments": {},
   "cell_type": "markdown",
   "metadata": {},
   "source": [
    "# Solucion de Karina 🎨"
   ]
  },
  {
   "cell_type": "code",
   "execution_count": 11,
   "metadata": {},
   "outputs": [
    {
     "name": "stdout",
     "output_type": "stream",
     "text": [
      "Me llamo Tirika y soy felino, soy un cazador veloz y también muy flexible.\n",
      "Me llamo Mastín y soy canino, soy un mamífero carnívoro y también poseo un oído y olfato desarrollado.\n"
     ]
    }
   ],
   "source": [
    "class Felino():\n",
    "    habilidad = \"un cazador veloz\"\n",
    "    habilidad2 = \"muy flexible\"\n",
    "\n",
    "    def decir_especie(self):\n",
    "        return(\"Hola soy un felino\")\n",
    "\n",
    "class Canino():\n",
    "    habilidad = \"un mamífero carnívoro\"\n",
    "    habilidad2 = \"poseo un oído y olfato desarrollado\"\n",
    "\n",
    "    def imprimir_canino(self):\n",
    "        return(\"canino\")\n",
    "\n",
    "tirika = Felino()\n",
    "print(f\"Me llamo Tirika y soy {tirika.imprimir_especie()}, soy {tirika.habilidad} y también {tirika.habilidad2}.\")\n",
    "\n",
    "mastin = Canino()\n",
    "print(f\"Me llamo Mastín y soy {mastin.imprimir_canino()}, soy {mastin.habilidad} y también {mastin.habilidad2}.\")"
   ]
  },
  {
   "attachments": {},
   "cell_type": "markdown",
   "metadata": {},
   "source": [
    "# OPP: inicializador o funcion init()\n"
   ]
  },
  {
   "cell_type": "code",
   "execution_count": 17,
   "metadata": {},
   "outputs": [
    {
     "name": "stdout",
     "output_type": "stream",
     "text": [
      "Mi auto es un corolla anho 2022 y es del color blanco\n",
      "Mi auto es un kia anho 2015 y es del color negro\n",
      "Este auto, tiene 55000 kilometros usados\n",
      "Este auto, tiene 55000 kilometros usados\n"
     ]
    }
   ],
   "source": [
    "class Automovil():\n",
    "    ruedas = 4\n",
    "\n",
    "    # Como damos caracteriscticas individuales a cada objeto:\n",
    "    # Se le conoce como metodo constructor\n",
    "    def __init__(self, anho, color):\n",
    "        self.anho = anho\n",
    "        self.color = color\n",
    "    \n",
    "    def mostrar_kilometraje(self, km):\n",
    "        return f\"Este auto, tiene {km} kilometros usados\"\n",
    "\n",
    "toyota_corolla = Automovil(2022, \"blanco\")\n",
    "kia_sportge = Automovil(2015, \"negro\")\n",
    "\n",
    "print(f\"Mi auto es un corolla anho {toyota_corolla.anho} y es del color {toyota_corolla.color}\")\n",
    "print(f\"Mi auto es un kia anho {kia_sportge.anho} y es del color {kia_sportge.color}\")\n",
    "\n",
    "km_kia = kia_sportge.mostrar_kilometraje(55000)\n",
    "print(km_kia)\n",
    "\n",
    "print(kia_sportge.mostrar_kilometraje(55000))\n",
    "        "
   ]
  },
  {
   "attachments": {},
   "cell_type": "markdown",
   "metadata": {},
   "source": [
    "## Challenge - 15 m 🤺\n",
    "Crear dos métodos(funcion) por animal, que sea hablar y moverse.\n",
    "\n",
    "En el método hablar, imprimir: \"Cuando hablo, digo X\".\n",
    "\n",
    "En el método moverse, imprimir: \"Cuando me muevo, hago X\".\n",
    "\n",
    "X debe ser algo específico de ese animal"
   ]
  },
  {
   "attachments": {},
   "cell_type": "markdown",
   "metadata": {},
   "source": [
    "# Solucion Mauri 🧨"
   ]
  },
  {
   "cell_type": "code",
   "execution_count": 18,
   "metadata": {},
   "outputs": [
    {
     "name": "stdout",
     "output_type": "stream",
     "text": [
      "Soy un perro y cuando hablo digo guau! y para moverme camino\n"
     ]
    }
   ],
   "source": [
    "especie = input(\"Ingrese la especie\")\n",
    "sonido = input(\"Ingrese el sonido que produce la especie\")\n",
    "movimiento = input(\"Ingrese el tipo de movimiento de la especie\")\n",
    "\n",
    "class Animal():\n",
    "\n",
    "    def __init__(self, especie, hablar, moverse):\n",
    "        self.especie = especie\n",
    "        self.hablar = hablar\n",
    "        self.moverse = moverse\n",
    "\n",
    "animal_seleccionado = Animal(especie, sonido, movimiento)\n",
    "\n",
    "\n",
    "print(f\"Soy un {animal_seleccionado.especie} y cuando hablo digo {animal_seleccionado.hablar} y para moverme {animal_seleccionado.moverse}\")\n",
    "# print(f\"Soy una serpiente y cuando hablo digo {serpiente.hablar} y para moverme {serpiente.moverse}\")"
   ]
  },
  {
   "attachments": {},
   "cell_type": "markdown",
   "metadata": {},
   "source": [
    "# Solucion de Anahi 🧶"
   ]
  },
  {
   "cell_type": "code",
   "execution_count": 19,
   "metadata": {},
   "outputs": [
    {
     "name": "stdout",
     "output_type": "stream",
     "text": [
      "Hola soy un loro por lo tanto mi especie es el de un psitácido y Cuando hablo digo Pancho. Además Cuando me muevo, hago popo\n"
     ]
    }
   ],
   "source": [
    "class Animales():\n",
    "    # Atributos\n",
    "    especie = \"psitácido\"\n",
    "\n",
    "    # Propiedades\n",
    "    def hablar(self):\n",
    "        return (\"Cuando hablo digo Pancho\")\n",
    "\n",
    "    def moverse(self):\n",
    "        return (\"Cuando me muevo, hago popo\")\n",
    "    \n",
    "\n",
    "loro = Animales()\n",
    "\n",
    "print(f\"Hola soy un loro por lo tanto mi especie es el de un {loro.especie} y {loro.hablar()}. Además {loro.moverse()}\")\n"
   ]
  },
  {
   "attachments": {},
   "cell_type": "markdown",
   "metadata": {},
   "source": [
    "# Solucion de Julio 🎆"
   ]
  },
  {
   "cell_type": "code",
   "execution_count": 22,
   "metadata": {},
   "outputs": [
    {
     "name": "stdout",
     "output_type": "stream",
     "text": [
      "Primer print:\n",
      "Me llamo Scooby Doo y mi especie es Canino  puedo ladrar muy fuerte  y correr a 20 km/h\n",
      "-------------------\n",
      "Segundo print:\n",
      "Me llamo Garfield y mi especie es Gatuno  puedo maullar toda la noche  y soy flexible y muy agil\n"
     ]
    }
   ],
   "source": [
    "# definimos la clase principal\n",
    "class Animal():\n",
    "    # se definen los atributos de clase\n",
    "    def __init__(self, especie, nombre):\n",
    "        self.especie = especie\n",
    "        self.nombre = nombre\n",
    "\n",
    "    # se definen las propiedades\n",
    "    def hablar(self, hablar):\n",
    "        return hablar\n",
    "\n",
    "    def moverse(self, moverse):\n",
    "        return moverse\n",
    "\n",
    "# creamos nuevos objetos a partir de la clase principal\n",
    "# objeto perro\n",
    "perro = Animal(\"Canino\", \"Scooby Doo\")\n",
    "perro_hablar = perro.hablar(\" puedo ladrar muy fuerte\")\n",
    "perro_moverse = perro.moverse(\" y correr a 20 km/h\")\n",
    "\n",
    "# objeto gato\n",
    "gato = Animal(\"Gatuno\",\"Garfield\")\n",
    "\n",
    "# llamamos a las propiedades de los nuevos objetos\n",
    "print(\"Primer print:\")\n",
    "print(f\"Me llamo {perro.nombre} y mi especie es {perro.especie} {perro_hablar} {perro_moverse}\")\n",
    "print(\"-------------------\")\n",
    "print(\"Segundo print:\")\n",
    "print(f\"Me llamo {gato.nombre} y mi especie es {gato.especie} {gato.hablar(' puedo maullar toda la noche ')} {gato.moverse('y soy flexible y muy agil')}\")"
   ]
  },
  {
   "cell_type": "code",
   "execution_count": 21,
   "metadata": {},
   "outputs": [
    {
     "name": "stdout",
     "output_type": "stream",
     "text": [
      " puedo ladrar muy fuerte\n"
     ]
    }
   ],
   "source": [
    "print(perro_hablar)"
   ]
  },
  {
   "attachments": {},
   "cell_type": "markdown",
   "metadata": {},
   "source": [
    "# OOP: Herencia\n",
    "Ojo! Esto no es una herencia como tal, sino una relación entre clases.\n",
    "Lo que representa la herencia es que una clase hereda los atributos y métodos de otra clase.\n"
   ]
  },
  {
   "cell_type": "code",
   "execution_count": 27,
   "metadata": {},
   "outputs": [
    {
     "name": "stdout",
     "output_type": "stream",
     "text": [
      "Hice una anotacion!!!\n",
      "Tengo 23 tapadas\n",
      "198\n"
     ]
    }
   ],
   "source": [
    "class Atleta():\n",
    "    \n",
    "    def __init__(self, posicion, estatura, deporte_jugado):\n",
    "        self.posicion = posicion\n",
    "        self.estatura = estatura\n",
    "        self.deporte_jugado = deporte_jugado\n",
    "\n",
    "    def anotar(self):\n",
    "        return \"Hice una anotacion!!!\"\n",
    "    \n",
    "\n",
    "class Basketbolista(Atleta):\n",
    "    \n",
    "    def tapada(self, cant_tapadas):\n",
    "        return f\"Tengo {cant_tapadas} tapadas\"\n",
    "\n",
    "\n",
    "kobe_bryant = Basketbolista(\"base\", \"198\", \"Basket\")\n",
    "\n",
    "print(kobe_bryant.anotar())\n",
    "print(kobe_bryant.tapada(23))\n",
    "print(kobe_bryant.estatura)"
   ]
  },
  {
   "attachments": {},
   "cell_type": "markdown",
   "metadata": {},
   "source": [
    "## Challenge - 15 min🤺\n",
    "Definir una clase principal que herede a dos clases nuevas dos funciones o metodos (propiedades). \n",
    "Mostrar ambos metodos en pantalla **desde** los objetos de las **clases nuevas**.\n"
   ]
  },
  {
   "attachments": {},
   "cell_type": "markdown",
   "metadata": {},
   "source": [
    "# Solucion de Fede 🕶"
   ]
  },
  {
   "cell_type": "code",
   "execution_count": 28,
   "metadata": {},
   "outputs": [
    {
     "name": "stdout",
     "output_type": "stream",
     "text": [
      "---\n",
      "---\n",
      "Hago programacion\n",
      "Guardo archivos\n",
      "Hago programacion\n",
      "Guardo archivos\n"
     ]
    }
   ],
   "source": [
    "class Computadora():\n",
    "    def __init__(self, marca, modelo):\n",
    "        self.marca =  marca\n",
    "        self.modelo = modelo\n",
    "    def programar(self):\n",
    "        return \"Hago programacion\"\n",
    "    def guardo(self):\n",
    "        return \"Guardo archivos\"\n",
    "\n",
    "class Notebook(Computadora):\n",
    "    print(\"---\")\n",
    "\n",
    "\n",
    "macbook = Notebook(\"Apple\",\"Macbook Pro\")\n",
    "\n",
    "class Escritorio(Computadora):\n",
    "    print(\"---\")\n",
    "\n",
    "hp = Escritorio(\"HP Desktop\",\"Modelo X\")\n",
    "\n",
    "print(macbook.programar())\n",
    "print(macbook.guardo())\n",
    "\n",
    "print(hp.programar())\n",
    "print(hp.guardo())"
   ]
  },
  {
   "attachments": {},
   "cell_type": "markdown",
   "metadata": {},
   "source": [
    "# Solucion de Marcelo 🧦"
   ]
  },
  {
   "cell_type": "code",
   "execution_count": 29,
   "metadata": {},
   "outputs": [
    {
     "name": "stdout",
     "output_type": "stream",
     "text": [
      "Soy el director y ensenho las materias de literatura y matematica\n",
      "Soy la profesora y ensenho las materias de psicologia y artes\n",
      "Enseño en la escuela kuarahy\n"
     ]
    }
   ],
   "source": [
    "class Director():\n",
    "\n",
    "    def __init__(self, materia1,mmateria2):\n",
    "        self.materia1 = materia1\n",
    "        self.materia2 = mmateria2\n",
    "\n",
    "    def enseñar(self):\n",
    "        return \"Enseño\"\n",
    "\n",
    "class Profesor(Director):\n",
    "\n",
    "    def primaria(self, escuela):\n",
    "        return f\"Enseño en la escuela {escuela}\"\n",
    "\n",
    "jesus= Director(materia1=(\"literatura\"), mmateria2=(\"matematica\"))\n",
    "jesus.enseñar()\n",
    "\n",
    "print(f\"Soy el director y ensenho las materias de {jesus.materia1} y {jesus.materia2}\")\n",
    "\n",
    "\n",
    "maria= Profesor(materia1=(\"psicologia\"), mmateria2=(\"artes\"))\n",
    "maria.enseñar()\n",
    "\n",
    "print(f\"Soy la profesora y ensenho las materias de {maria.materia1} y {maria.materia2}\")\n",
    "\n",
    "print(maria.primaria(\"kuarahy\"))"
   ]
  },
  {
   "attachments": {},
   "cell_type": "markdown",
   "metadata": {},
   "source": [
    "# Estrutura de datos: Diccionario"
   ]
  },
  {
   "attachments": {},
   "cell_type": "markdown",
   "metadata": {},
   "source": [
    "Un diccionario es una colección de pares formados por una clave y un valor asociado a la clave. Se construyen poniendo los pares entre llaves `{ }` separados por comas, y separando la clave del valor con dos puntos :.\n"
   ]
  },
  {
   "cell_type": "code",
   "execution_count": null,
   "metadata": {},
   "outputs": [],
   "source": [
    "#   (clave)             (valor)\n",
    "{ \"unisono\" : \"Varios sonidos al mismo tiempo\" , \"efimero\": \"algo de corta duracion\"}\n",
    "\n",
    "{ \"edad\" : 22 } # este es un diccionario nuevo"
   ]
  },
  {
   "attachments": {},
   "cell_type": "markdown",
   "metadata": {},
   "source": [
    "Se caracterizan por:\n",
    "\n",
    "- No tienen orden.\n",
    "- Pueden contener elementos de distintos tipos.\n",
    "- Son mutables, es decir, pueden alterarse durante la ejecución de un programa.\n",
    "- Las claves son únicas, es decir, no pueden repetirse en un mismo diccionario"
   ]
  },
  {
   "cell_type": "code",
   "execution_count": 42,
   "metadata": {},
   "outputs": [
    {
     "name": "stdout",
     "output_type": "stream",
     "text": [
      "Manzana Argentina\n",
      "Atencion! Solo quedan 5\n",
      "Pera Uruguaya\n",
      "Atencion! Solo quedan 3\n"
     ]
    }
   ],
   "source": [
    "datos_manzana = {\"nombre_producto\": \"Manzana Argentina\" , \"precio\" : 5000, \"stock\" : 5 }\n",
    "datos_peras = {\"nombre_producto\": \"Pera Uruguaya\" , \"precio\" : 5000, \"stock\" : 3 }\n",
    "\n",
    "print(datos_manzana[\"nombre_producto\"])\n",
    "print(f\"Atencion! Solo quedan {datos_manzana['stock']}\")\n",
    "\n",
    "print(datos_peras[\"nombre_producto\"])\n",
    "print(f\"Atencion! Solo quedan {datos_peras['stock']}\")\n"
   ]
  },
  {
   "cell_type": "code",
   "execution_count": null,
   "metadata": {},
   "outputs": [],
   "source": [
    "datos = {\"Nombre\": , }  # no se puede\n",
    "\n",
    "nombre_ususario = input()\n",
    "\n",
    "datos = {\"Nombre\": nombre_ususario }  # si se puede\n"
   ]
  },
  {
   "attachments": {},
   "cell_type": "markdown",
   "metadata": {},
   "source": [
    "## Modificando el diccionario"
   ]
  },
  {
   "cell_type": "code",
   "execution_count": 43,
   "metadata": {},
   "outputs": [
    {
     "name": "stdout",
     "output_type": "stream",
     "text": [
      "{'nombre_producto': 'Manzana Argentina', 'precio': 5000, 'stock': 5}\n",
      "Manzana Argentina\n",
      "{'nombre_producto': 'Manzana Argentina', 'stock': 50, 'color': 'Roja'}\n"
     ]
    }
   ],
   "source": [
    "datos_manzana = {\"nombre_producto\": \"Manzana Argentina\" , \"precio\" : 5000, \"stock\" : 5 }\n",
    "\n",
    "# para visualizar un elemento\n",
    "print(datos_manzana[\"nombre_producto\"])\n",
    "\n",
    "# modificar un dato (una llave)\n",
    "datos_manzana[\"stock\"] = 50 # actualizo el stock de manzanas\n",
    "\n",
    "# creo un dato (una llave)\n",
    "datos_manzana[\"color\"] = \"Roja\"\n",
    "\n",
    "# eliminar un datos (una llave)\n",
    "del datos_manzana[\"precio\"]\n",
    "\n",
    "# visualizar como queda el diccionario\n",
    "print(datos_manzana)"
   ]
  },
  {
   "attachments": {},
   "cell_type": "markdown",
   "metadata": {},
   "source": [
    "## Challenge 1 - 15 min🤺\n",
    "Escribir un programa que cree un diccionario vacío y lo vaya llenado con información sobre una persona (por ejemplo nombre, edad, sexo, teléfono, correo electrónico, etc.) que se le pida al usuario. Cada vez que se añada un nuevo dato debe imprimirse el contenido del diccionario."
   ]
  },
  {
   "cell_type": "code",
   "execution_count": 46,
   "metadata": {},
   "outputs": [
    {
     "name": "stdout",
     "output_type": "stream",
     "text": [
      "{'nombre': 'nombre'}\n"
     ]
    }
   ],
   "source": [
    "diccionario_datos = {}\n",
    "\n",
    "nombre_usuario = input(\"Dime tu nombre\")\n",
    "\n",
    "diccionario_datos[\"nombre\"] = nombre_usuario\n",
    "\n",
    "print(diccionario_datos)\n",
    "\n",
    "apellido_usuario = input(\"Dame tu apellido\")\n",
    "\n",
    "diccionario_datos[\"apellido\"] = apellido_usuario"
   ]
  },
  {
   "attachments": {},
   "cell_type": "markdown",
   "metadata": {},
   "source": [
    "# Como hago una tarjeta personal?"
   ]
  },
  {
   "cell_type": "code",
   "execution_count": 47,
   "metadata": {},
   "outputs": [
    {
     "name": "stdout",
     "output_type": "stream",
     "text": [
      "{'nombre': 'enri', 'email': 'enri@gmail.com'}\n"
     ]
    }
   ],
   "source": [
    "diccionario_datos = {\"nombre\": \"enri\"}\n",
    "\n",
    "llave_a_ingresar = input(\"Ingrese el dato a guardar\")\n",
    "valor_a_ingresar = input(\"Ingrese el valor a guardar\")\n",
    "\n",
    "diccionario_datos[llave_a_ingresar] = valor_a_ingresar\n",
    "\n",
    "print(diccionario_datos)"
   ]
  },
  {
   "attachments": {},
   "cell_type": "markdown",
   "metadata": {},
   "source": [
    "## Challenge 2 - 15 min🤺\n",
    "\n",
    "Dado este diccionario:\n",
    "\n",
    "tarjeta_personal = {\"nombre\": \"Juan Perez\"} \n",
    "Crear una tarjeta personal. El usuario (mediante input) puede crear tantos datos como quiera"
   ]
  },
  {
   "attachments": {},
   "cell_type": "markdown",
   "metadata": {},
   "source": [
    "## Challenge - 15 min🤺\n",
    "\n",
    "Dado este diccionario:\n",
    "tarjeta_personal = {\"nombre\": \"Juan Perez\"} \n",
    "\n",
    "Crear una tarjeta personal. El usuario (mediante input) puede elegir:\n",
    "\n",
    "1. Crear datos nuevos\n",
    "2. Modificar datos\n",
    "3. Eliminar datos"
   ]
  }
 ],
 "metadata": {
  "kernelspec": {
   "display_name": "Python 3",
   "language": "python",
   "name": "python3"
  },
  "language_info": {
   "codemirror_mode": {
    "name": "ipython",
    "version": 3
   },
   "file_extension": ".py",
   "mimetype": "text/x-python",
   "name": "python",
   "nbconvert_exporter": "python",
   "pygments_lexer": "ipython3",
   "version": "3.8.10"
  },
  "orig_nbformat": 4,
  "vscode": {
   "interpreter": {
    "hash": "916dbcbb3f70747c44a77c7bcd40155683ae19c65e1c03b4aa3499c5328201f1"
   }
  }
 },
 "nbformat": 4,
 "nbformat_minor": 2
}
