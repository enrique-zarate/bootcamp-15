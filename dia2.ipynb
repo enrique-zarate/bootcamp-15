{
 "cells": [
  {
   "attachments": {},
   "cell_type": "markdown",
   "metadata": {},
   "source": [
    "## Challenge 🤺 - 15m\n",
    "\n",
    "Crear una función para su presupuesto mensual y que imprima cuanto dinero les sobra.\n",
    "Ejecutar la función 3 veces.\n"
   ]
  },
  {
   "cell_type": "code",
   "execution_count": 2,
   "metadata": {},
   "outputs": [
    {
     "name": "stdout",
     "output_type": "stream",
     "text": [
      "Su saldo inicial es: 50000\n",
      "Su saldo actual es de: 40000\n",
      "Su saldo actual es de: 20000\n",
      "Su saldo actual es de: 5000\n"
     ]
    }
   ],
   "source": [
    "#Definimos una variable llamada saldo inicial del mes\n",
    "saldo = 0\n",
    "saldo = int(input(\"Ingrese Saldo a cargar\"))\n",
    "print(f\"Su saldo inicial es: {saldo}\")\n",
    "\n",
    "#definimos la funcion que resta el gasto del saldo \n",
    "def restar_saldo(saldo):    #para poder restar recibimos como parámetro el saldo\n",
    "    gasto = int(input(\"Ingrese gasto a descontar\"))\n",
    "    saldo = saldo - gasto\n",
    "    print(f\"Su saldo actual es de: {saldo}\")\n",
    "    return saldo    #retornamos la variable saldo para acutalizar el valor\n",
    "\n",
    "#invocamos la función creada\n",
    "saldo = restar_saldo(saldo)\n",
    "saldo = restar_saldo(saldo)\n",
    "saldo = restar_saldo(saldo)"
   ]
  },
  {
   "attachments": {},
   "cell_type": "markdown",
   "metadata": {},
   "source": [
    "# Funciones"
   ]
  },
  {
   "cell_type": "code",
   "execution_count": 4,
   "metadata": {},
   "outputs": [
    {
     "name": "stdout",
     "output_type": "stream",
     "text": [
      "Ir a una libreria\n",
      "Buscar un libro re fachero\n",
      "Salir corriendo con el libro\n"
     ]
    }
   ],
   "source": [
    "def comprar_libros():\n",
    "    print(\"Ir a una libreria\")\n",
    "    print(\"Buscar un libro re fachero\")\n",
    "    print(\"Salir corriendo con el libro\")\n",
    "\n",
    "comprar_libros()"
   ]
  },
  {
   "attachments": {},
   "cell_type": "markdown",
   "metadata": {},
   "source": [
    "## Repaso: Conversion de datos"
   ]
  },
  {
   "cell_type": "code",
   "execution_count": 5,
   "metadata": {},
   "outputs": [
    {
     "name": "stdout",
     "output_type": "stream",
     "text": [
      " El tipo de dato es: <class 'int'>\n",
      "50000\n"
     ]
    }
   ],
   "source": [
    "precio_ingresado = int(input(\"Ingrese el precio del libro\"))\n",
    "print(f\" El tipo de dato es: {type(precio_ingresado)}\")\n",
    "\n",
    "precio_principito = 30000\n",
    "\n",
    "total_a_pagar = precio_ingresado + precio_principito\n",
    "\n",
    "print(total_a_pagar)"
   ]
  },
  {
   "attachments": {},
   "cell_type": "markdown",
   "metadata": {},
   "source": [
    "# Scope o alcance de una funcion"
   ]
  },
  {
   "cell_type": "code",
   "execution_count": null,
   "metadata": {},
   "outputs": [],
   "source": [
    "presupuesto_anual = 100000 # 100.000\n",
    "\n",
    "def compra_libro():\n",
    "    precio_libro = input(\"Ingrese el precio del libro\")\n",
    "    prepuesto_actualizado = presupuesto_anual - precio_libro"
   ]
  },
  {
   "cell_type": "code",
   "execution_count": 13,
   "metadata": {},
   "outputs": [],
   "source": [
    "saludo = \"Hola desde fuera de la funcion\"     # Variable global\n",
    "\n",
    "def saludar():\n",
    "    saludo = \"Hello desde dentro de la funcion\"  # Variable local\n",
    "    #print(saludo)\n",
    "\n",
    "saludar()\n",
    "\n",
    "saludo = \"Holis nuevamente\"\n",
    "\n",
    "#print(saludo)\n"
   ]
  },
  {
   "attachments": {},
   "cell_type": "markdown",
   "metadata": {},
   "source": [
    "## Return"
   ]
  },
  {
   "attachments": {},
   "cell_type": "markdown",
   "metadata": {},
   "source": [
    "Me permite que lo que pase dentro de la funcion, pueda tambien usarse fuera"
   ]
  },
  {
   "cell_type": "code",
   "execution_count": 16,
   "metadata": {},
   "outputs": [],
   "source": [
    "monto = 10000 # monto inicial\n",
    "\n",
    "def comprar():\n",
    "    precio = int(input(\"Ingrese el precio\"))\n",
    "    saldo_restante = monto - precio\n",
    "    return saldo_restante\n",
    "\n",
    "monto = comprar()     # reasignar al valor que quiero que se actualice"
   ]
  },
  {
   "attachments": {},
   "cell_type": "markdown",
   "metadata": {},
   "source": [
    "# Condicionales"
   ]
  },
  {
   "attachments": {},
   "cell_type": "markdown",
   "metadata": {},
   "source": [
    "Cuando, que si, el sino"
   ]
  },
  {
   "attachments": {},
   "cell_type": "markdown",
   "metadata": {},
   "source": [
    "Booleano"
   ]
  },
  {
   "cell_type": "code",
   "execution_count": 18,
   "metadata": {},
   "outputs": [
    {
     "name": "stdout",
     "output_type": "stream",
     "text": [
      "False\n"
     ]
    }
   ],
   "source": [
    "True        # verdadero\n",
    "False       # Mantira\n",
    "not True    # No verdadero o Falso\n",
    "not False   # No false o verdadero\n",
    "\n",
    "es_mayor_de_edad = False\n",
    "\n",
    "print(es_mayor_de_edad)"
   ]
  },
  {
   "attachments": {},
   "cell_type": "markdown",
   "metadata": {},
   "source": [
    "## if"
   ]
  },
  {
   "cell_type": "code",
   "execution_count": 21,
   "metadata": {},
   "outputs": [
    {
     "name": "stdout",
     "output_type": "stream",
     "text": [
      "Compra el Principito\n"
     ]
    }
   ],
   "source": [
    "es_mayor_de_edad = False\n",
    "\n",
    "if es_mayor_de_edad == True:          # Es la persona mayor de edad?\n",
    "    print(\"Podes comprar 50 Sobras de Gray\")    # solo si es verdadero\n",
    "else:\n",
    "    print(\"Compra el Principito\")"
   ]
  },
  {
   "attachments": {},
   "cell_type": "markdown",
   "metadata": {},
   "source": [
    "## Con varias condiciones"
   ]
  },
  {
   "attachments": {},
   "cell_type": "markdown",
   "metadata": {},
   "source": [
    "## if"
   ]
  },
  {
   "cell_type": "code",
   "execution_count": 23,
   "metadata": {},
   "outputs": [
    {
     "name": "stdout",
     "output_type": "stream",
     "text": [
      "Podes comprar 50 Sombras\n"
     ]
    }
   ],
   "source": [
    "es_mayor_de_edad = True\n",
    "presupuesto = 300000    #300.000\n",
    "precio_del_libro = 200000\n",
    "\n",
    "if es_mayor_de_edad == True:\n",
    "    if presupuesto >= precio_del_libro:\n",
    "        print(\"Podes comprar 50 Sombras\")"
   ]
  },
  {
   "attachments": {},
   "cell_type": "markdown",
   "metadata": {},
   "source": [
    "## elif"
   ]
  },
  {
   "cell_type": "code",
   "execution_count": 27,
   "metadata": {},
   "outputs": [
    {
     "name": "stdout",
     "output_type": "stream",
     "text": [
      "Anda toma juguito\n"
     ]
    }
   ],
   "source": [
    "es_mayor_de_edad = False\n",
    "presupuesto = 100000    #100.000\n",
    "precio_del_libro = 200000\n",
    "\n",
    "\n",
    "if es_mayor_de_edad == True and presupuesto >= precio_del_libro:    # No, falso\n",
    "    print(\"Podes comprar 50 Sombras\")\n",
    "elif es_mayor_de_edad == True and presupuesto < precio_del_libro:   # Si, verdadero\n",
    "    print(\"Aprende a programar y hace plata\")\n",
    "else:\n",
    "    print(\"Anda toma juguito\")\n"
   ]
  },
  {
   "cell_type": "code",
   "execution_count": 25,
   "metadata": {},
   "outputs": [
    {
     "name": "stdout",
     "output_type": "stream",
     "text": [
      "False\n"
     ]
    }
   ],
   "source": [
    "print(not True)"
   ]
  },
  {
   "attachments": {},
   "cell_type": "markdown",
   "metadata": {},
   "source": [
    "### Challenge 🤺 - 15m\n",
    "\n",
    "Escribir un programa en el que se pregunte al usuario por una temperatura (en grados Celsius), imprima la temperatura escrita, y luego clasificar la temperatura ingresada en los siguientes niveles:\n",
    "\n",
    "Entre -10 y 18 grados, que imprima \"Fresquete\".\n",
    "Entre 19 y 30 grados, que imprima \"Calor'i\".\n",
    "Entre 31 y 45 grados, que imprima \"Hakuuuuuu\".\n",
    "Para todo lo demás, imprimir \"Ñamano mba'e!\".\n",
    "\n",
    "Tip: Pueden haber tantos elif como lo necesites"
   ]
  },
  {
   "attachments": {},
   "cell_type": "markdown",
   "metadata": {},
   "source": [
    "# Solucion de Belen 🎈"
   ]
  },
  {
   "cell_type": "code",
   "execution_count": 31,
   "metadata": {},
   "outputs": [
    {
     "name": "stdout",
     "output_type": "stream",
     "text": [
      "-10000\n",
      "Ñamano mba'e\n"
     ]
    }
   ],
   "source": [
    "temperatura = int(input(\"Ingrese una temperatura en grados Celsius:\"))\n",
    "print(temperatura)\n",
    "\n",
    "\n",
    "if temperatura <= 18 and temperatura >= -10:\n",
    "    print(\"Fresquete\")\n",
    "elif temperatura <= 30 and temperatura >= 19:\n",
    "    print(\"Calor'i\")\n",
    "elif temperatura <= 45 and temperatura >= 31:\n",
    "    print(\"Hakuuuuu\")\n",
    "else:\n",
    "    print(\"Ñamano mba'e\")"
   ]
  },
  {
   "cell_type": "code",
   "execution_count": null,
   "metadata": {},
   "outputs": [],
   "source": [
    "temperatura = int(input(\"Ingrese una temperatura en grados Celsius:\"))\n",
    "print(temperatura)\n",
    "se_puede_medir = True\n",
    "\n",
    "\n",
    "if se_puede_medir and temperatura <= 18 and temperatura >= -10:\n",
    "    print(\"Fresquete\")\n",
    "elif temperatura <= 30 :\n",
    "    print(\"Calor'i\")\n",
    "elif temperatura <= 45 and temperatura >= 31:\n",
    "    print(\"Hakuuuuu\")\n",
    "else:\n",
    "    print(\"Ñamano mba'e\")"
   ]
  },
  {
   "cell_type": "code",
   "execution_count": 39,
   "metadata": {},
   "outputs": [
    {
     "name": "stdout",
     "output_type": "stream",
     "text": [
      "-1\n",
      "False\n",
      "Fresquete\n"
     ]
    }
   ],
   "source": [
    "temperatura = int(input(\"Ingrese una temperatura en grados Celsius:\"))\n",
    "print(temperatura)\n",
    "\n",
    "print(temperatura <= 18 and temperatura > 0)   # vericando el valor\n",
    "\n",
    "if temperatura >= 18:      # preguntando en base al valor\n",
    "    print(\"Fresquete\")"
   ]
  },
  {
   "cell_type": "code",
   "execution_count": 45,
   "metadata": {},
   "outputs": [
    {
     "name": "stdout",
     "output_type": "stream",
     "text": [
      "es un adulto\n"
     ]
    }
   ],
   "source": [
    "edad = 45\n",
    "\n",
    "if edad > 40:\n",
    "    print(\"es un adulto\")\n",
    "elif edad > 15:\n",
    "    print(\"es un adolescente\")\n",
    "elif edad > 5:\n",
    "    print(\"es un ninho\")"
   ]
  },
  {
   "attachments": {},
   "cell_type": "markdown",
   "metadata": {},
   "source": [
    "# Bucles: while"
   ]
  },
  {
   "cell_type": "code",
   "execution_count": null,
   "metadata": {},
   "outputs": [],
   "source": [
    "def solicitar_dato_producto():      # definicion\n",
    "    nombre_producto = input(\"Ingrese el nombre del producto\")\n",
    "    cantidad_producto = int(input(\"Ingrese la cantidad del producto\"))\n",
    "    precio_producto = int(input(\"Ingrese el precio del producto\"))\n",
    "    iva = input(\"dame Iva\")\n",
    "    print(f\"El valor total de {nombre_producto} es de {cantidad_producto * precio_producto}\")\n",
    "\n",
    "\n",
    "\n",
    "solicitar_dato_producto()\n",
    "solicitar_dato_producto()\n",
    "solicitar_dato_producto()"
   ]
  },
  {
   "attachments": {},
   "cell_type": "markdown",
   "metadata": {},
   "source": [
    "### Problema: no sabemos cuantos productos se van a cargar"
   ]
  },
  {
   "attachments": {},
   "cell_type": "markdown",
   "metadata": {},
   "source": [
    "`while`\n",
    "\n",
    "While nos permite ejecutar una serie de instrucciones mientras una condicion se cumpla. Al momento que la condicion deje de ser cierta el bucle va parar."
   ]
  },
  {
   "cell_type": "code",
   "execution_count": 5,
   "metadata": {},
   "outputs": [
    {
     "name": "stdout",
     "output_type": "stream",
     "text": [
      "Bienvenido al Biggie\n",
      "2\n",
      "Bienvenido al Biggie\n",
      "4\n",
      "Bienvenido al Biggie\n",
      "6\n",
      "Bienvenido al Biggie\n",
      "8\n",
      "Bienvenido al Biggie\n",
      "10\n",
      "Bienvenido al Biggie\n",
      "12\n",
      "EStoy fuera del bucle\n"
     ]
    }
   ],
   "source": [
    "contador = 0            # contador que inicia en 0\n",
    "\n",
    "while contador < 10:    # mientras el contador sea menos a 10\n",
    "    print(\"Bienvenido al Biggie\")\n",
    "    contador = contador + 2       # la condicion que hace que deje de ser verdadero\n",
    "    print(contador)\n",
    "\n",
    "print(\"EStoy fuera del bucle\")"
   ]
  },
  {
   "cell_type": "code",
   "execution_count": 7,
   "metadata": {},
   "outputs": [
    {
     "name": "stdout",
     "output_type": "stream",
     "text": [
      "Bienvenido al Biggie\n",
      "1\n",
      "Bienvenido al Biggie\n",
      "2\n",
      "Bienvenido al Biggie\n",
      "3\n",
      "Bienvenido al Biggie\n",
      "4\n",
      "Bienvenido al Biggie\n",
      "5\n",
      "Bienvenido al Biggie\n",
      "6\n",
      "Bienvenido al Biggie\n",
      "7\n",
      "Bienvenido al Biggie\n",
      "8\n",
      "Bienvenido al Biggie\n",
      "9\n",
      "Bienvenido al Biggie\n"
     ]
    }
   ],
   "source": [
    "contador = 0            # contador que inicia en 0\n",
    "\n",
    "while contador < 10:    # mientras el contador sea menos a 10\n",
    "    print(\"Bienvenido al Biggie\")\n",
    "    contador = contador + 1       # la condicion que hace que deje de ser verdadero\n",
    "    if contador < 10:\n",
    "        print(contador)\n"
   ]
  },
  {
   "cell_type": "code",
   "execution_count": 9,
   "metadata": {},
   "outputs": [
    {
     "name": "stdout",
     "output_type": "stream",
     "text": [
      "fallaste bro!\n",
      "fallaste bro!\n"
     ]
    }
   ],
   "source": [
    "# adivina el numero\n",
    "\n",
    "numero_secreto = \"232323\"\n",
    "\n",
    "numero_usuario = input(\"Ingrese un numero\")\n",
    "\n",
    "# mientras el numero que ingrese el usuario, sea diferente al numero secreto\n",
    "# te diga fallaste, y pedir un nuevo dato\n",
    "# si acierta, termina el juego\n",
    "\n",
    "while numero_usuario != numero_secreto:\n",
    "    print(\"fallaste bro!\") \n",
    "    numero_usuario = input(\"Ingrese un numero\")\n"
   ]
  },
  {
   "attachments": {},
   "cell_type": "markdown",
   "metadata": {},
   "source": [
    "### Challenge 🤺 - 15m\n",
    "Escribir un programa que almacene una contraseña en una variable, y pregunte al usuario por la contraseña hasta que introduzca la contraseña correcta.\n",
    "\n",
    "Cuando el usuario ingrese la contrasena correcta, imprimir un mensaje secreto."
   ]
  },
  {
   "attachments": {},
   "cell_type": "markdown",
   "metadata": {},
   "source": [
    "# Solucion de Enrique 🎎"
   ]
  },
  {
   "cell_type": "code",
   "execution_count": 13,
   "metadata": {},
   "outputs": [],
   "source": [
    "pin = 2023\n",
    "pin_usuario = int(input(\"ingrese el pin\"))\n",
    "while pin != pin_usuario:     # mientras los pines sean distintos\n",
    "    print(\"pin incorrecto\")\n",
    "    pin_usuario = int(input(\"ingrese el pin\"))\n",
    "\n",
    "print(\"login exitoso\")"
   ]
  },
  {
   "attachments": {},
   "cell_type": "markdown",
   "metadata": {},
   "source": [
    "# Solucion de Alvarito 🎀"
   ]
  },
  {
   "cell_type": "code",
   "execution_count": 14,
   "metadata": {},
   "outputs": [
    {
     "name": "stdout",
     "output_type": "stream",
     "text": [
      "FATAL ERROR\n",
      "FATAL ERROR\n",
      "GANASTE\n"
     ]
    }
   ],
   "source": [
    "contrasenha = 12345\n",
    "contrasenha_usuario = int(input(\"ingrese constrasenha\"))\n",
    "\n",
    "while contrasenha_usuario != contrasenha:\n",
    "    print(\"FATAL ERROR\")\n",
    "    contrasenha_usuario = int(input(\"ingrese contrasenha\"))\n",
    "if contrasenha == contrasenha_usuario:\n",
    "    print(\"GANASTE\")"
   ]
  },
  {
   "attachments": {},
   "cell_type": "markdown",
   "metadata": {},
   "source": []
  },
  {
   "cell_type": "code",
   "execution_count": null,
   "metadata": {},
   "outputs": [],
   "source": [
    "producto1 = \"Leche\"\n",
    "producto2 = \"Huevo\"\n",
    "producto3 = \"Chocolate\"\n"
   ]
  },
  {
   "attachments": {},
   "cell_type": "markdown",
   "metadata": {},
   "source": [
    "# Estructura de datos: Lista"
   ]
  },
  {
   "attachments": {},
   "cell_type": "markdown",
   "metadata": {},
   "source": [
    "Una lista es una agrupación de objetos, que pueden ser de distintos tipos de datos. Las construimos colocando los elementos entre corchetes [ ] y separados por comas."
   ]
  },
  {
   "cell_type": "code",
   "execution_count": null,
   "metadata": {},
   "outputs": [],
   "source": [
    "lista_del_super = [\"Leche\",\"Huevo\",\"Chocolate\"]\n",
    "lista_de_precios = [5000, 6000, 8000]\n",
    "lista_x = []\n",
    "\n",
    "datos_usuario = [1, \"Enrique\", \"Zarate\", 22, 55.5, True, False]"
   ]
  },
  {
   "attachments": {},
   "cell_type": "markdown",
   "metadata": {},
   "source": [
    "## Manipulacion de listas"
   ]
  },
  {
   "cell_type": "code",
   "execution_count": 24,
   "metadata": {},
   "outputs": [
    {
     "name": "stdout",
     "output_type": "stream",
     "text": [
      "Peras\n",
      "Manzanas\n",
      "Tomates\n",
      "4\n"
     ]
    },
    {
     "data": {
      "text/plain": [
       "'Peras'"
      ]
     },
     "execution_count": 24,
     "metadata": {},
     "output_type": "execute_result"
    }
   ],
   "source": [
    "# Acceder a elementos\n",
    "## INDICE\n",
    "## POSICION\n",
    "\n",
    "mi_lista = [\"Peras\", \"Manzanas\", \"Tomates\", \"Pomelos\"]\n",
    "print(mi_lista[0])\n",
    "print(mi_lista[1])\n",
    "print(mi_lista[2])\n",
    "\n",
    "# Contar cuantos elementos hay\n",
    "cant_frutas = len(mi_lista)\n",
    "print(cant_frutas)\n",
    "\n",
    "# Agregar elementos a la lista\n",
    "mi_lista.append(\"Ciruelas\")\n",
    "# nO hace falta print()\n",
    "\n",
    "# Editar o modificar un elemento\n",
    "mi_lista[1] = \"Kiwis\"\n",
    "\n",
    "# Eliminar elementos -> si le pasamos el nombre el objeto\n",
    "mi_lista.remove(\"Tomates\")\n",
    "# Eliminar elementos -> si le pasamos el indice del objeto\n",
    "mi_lista.pop(0)"
   ]
  },
  {
   "attachments": {},
   "cell_type": "markdown",
   "metadata": {},
   "source": [
    "### Challenge 🤺 - 15m\n",
    "\n",
    "Crear una lista de 5 elementos. Luego, seguir los siguientes pasos.\n",
    "\n",
    "- Agregar un elemento al final de la lista.\n",
    "\n",
    "- Modificar el segundo elemento.\n",
    "\n",
    "- Eliminar el tercer elemento."
   ]
  },
  {
   "attachments": {},
   "cell_type": "markdown",
   "metadata": {},
   "source": [
    "# Solucion de Alma 🥽"
   ]
  },
  {
   "cell_type": "code",
   "execution_count": 25,
   "metadata": {},
   "outputs": [
    {
     "name": "stdout",
     "output_type": "stream",
     "text": [
      "['Mario', 'Pedro', 'Alberto', 'Angela', 'Paola']\n"
     ]
    }
   ],
   "source": [
    "                    #    0       1       2          3         4\n",
    "lista_trabajadores = [\"Mario\", \"Juan\", \"Maria\", \"Alberto\", \"Angela\"]\n",
    "lista_trabajadores.append(\"Paola\")          #Primer ejercicio\n",
    "lista_trabajadores[1] = \"Pedro\"             #Segundo ejercicio\n",
    "lista_trabajadores.pop(2)                   #Tercer ejercicio\n",
    "\n",
    "print(lista_trabajadores)"
   ]
  },
  {
   "attachments": {},
   "cell_type": "markdown",
   "metadata": {},
   "source": [
    "# Bucle: `for`"
   ]
  },
  {
   "attachments": {},
   "cell_type": "markdown",
   "metadata": {},
   "source": [
    "Cuando queremos repetir una acción una cierta cantidad de veces, podemos utilizar un bucle iterativo.\n",
    "\n",
    "Iteraciones: una acción repetida una cierta cantidad de veces, pero en cada repetición se tiene en cuenta el valor anterior.\n",
    "\n",
    "Para eso podríamos usar un generador de iterables llamado \"range\", de la siguiente forma:"
   ]
  },
  {
   "cell_type": "code",
   "execution_count": 34,
   "metadata": {},
   "outputs": [
    {
     "name": "stdout",
     "output_type": "stream",
     "text": [
      "El iterador ahora es: Peras\n",
      "El iterador ahora es: Manzanas\n",
      "El iterador ahora es: Tomates\n",
      "El iterador ahora es: Pomelos\n"
     ]
    }
   ],
   "source": [
    "# Anatomia bucle for\n",
    "\n",
    "lista_de_frutas = [\"Peras\", \"Manzanas\", \"Tomates\", \"Pomelos\"]\n",
    "\n",
    "for fruta in lista_de_frutas:   # para cada fruta en lista de frutas\n",
    "    print(f\"El iterador ahora es: {fruta}\")"
   ]
  },
  {
   "cell_type": "code",
   "execution_count": null,
   "metadata": {},
   "outputs": [],
   "source": [
    "range(5)        # ->  [0 ,1, 2, 3, 4]"
   ]
  },
  {
   "cell_type": "code",
   "execution_count": 35,
   "metadata": {},
   "outputs": [
    {
     "name": "stdout",
     "output_type": "stream",
     "text": [
      "El iterador ahora es: 0\n",
      "El iterador ahora es: 1\n"
     ]
    }
   ],
   "source": [
    "lista_de_frutas = [\"Peras\", \"Manzanas\", \"Tomates\", \"Pomelos\"]\n",
    "\n",
    "for fruta in range(2):   # para cada fruta en lista de frutas\n",
    "    print(f\"El iterador ahora es: {fruta}\")"
   ]
  },
  {
   "attachments": {},
   "cell_type": "markdown",
   "metadata": {},
   "source": [
    "### Challenge 🤺 - 15m\n",
    "\n",
    "Escribir un programa que itere en un rango de 10 veces. Por cada iteracion multiplicar el iterador por dos e imprimir el resultado.\n",
    "\n",
    "ej:\n",
    "- El resultado de 1 * 2 es 2 \n",
    "- El resultado de 2 * 2 es 4 \n",
    "- ..."
   ]
  },
  {
   "attachments": {},
   "cell_type": "markdown",
   "metadata": {},
   "source": [
    "# Solucion de Natalie 👝"
   ]
  },
  {
   "cell_type": "code",
   "execution_count": 37,
   "metadata": {},
   "outputs": [
    {
     "name": "stdout",
     "output_type": "stream",
     "text": [
      "El resultado del 1 * 2 es 2\n",
      "El resultado del 2 * 2 es 4\n",
      "El resultado del 3 * 2 es 6\n",
      "El resultado del 4 * 2 es 8\n",
      "El resultado del 5 * 2 es 10\n",
      "El resultado del 6 * 2 es 12\n",
      "El resultado del 7 * 2 es 14\n",
      "El resultado del 8 * 2 es 16\n",
      "El resultado del 9 * 2 es 18\n",
      "El resultado del 10 * 2 es 20\n"
     ]
    }
   ],
   "source": [
    "for iterador in range(1, 11): \n",
    "    iterador_x = iterador * 2\n",
    "    print(f\"El resultado del {iterador} * 2 es {iterador_x}\")"
   ]
  },
  {
   "attachments": {},
   "cell_type": "markdown",
   "metadata": {},
   "source": []
  },
  {
   "cell_type": "code",
   "execution_count": 38,
   "metadata": {},
   "outputs": [
    {
     "name": "stdout",
     "output_type": "stream",
     "text": [
      "g\n",
      "a\n",
      "t\n",
      "o\n"
     ]
    }
   ],
   "source": [
    "palabra = \"gato\"\n",
    "\n",
    "for letra in palabra:\n",
    "    print(letra)"
   ]
  },
  {
   "attachments": {},
   "cell_type": "markdown",
   "metadata": {},
   "source": [
    "### Challenge 🤺 - 15m\n",
    "\n",
    "Solicitar al usuario que ingrese una frase y almacenarlo en una variable.\n",
    "\n",
    "Imprimir un mensaje (p.e.: \"Encontré la 'o'\") cada vez que se encuentre una letra \"o\" en la frase ingresada."
   ]
  },
  {
   "attachments": {},
   "cell_type": "markdown",
   "metadata": {},
   "source": [
    "# Como hacemos un Wordle en Python 💵"
   ]
  },
  {
   "attachments": {},
   "cell_type": "markdown",
   "metadata": {},
   "source": [
    "Necesitamos lo siguiente:\n",
    "\n",
    "    - Variables\n",
    "    - Tipos de datos\n",
    "    - Concatenación\n",
    "    - Operadores lógicos\n",
    "    - Condicionales (control de flujo)\n",
    "    - Funciones (propias & built-in)\n",
    "    - Bucles"
   ]
  },
  {
   "cell_type": "code",
   "execution_count": null,
   "metadata": {},
   "outputs": [],
   "source": []
  }
 ],
 "metadata": {
  "kernelspec": {
   "display_name": "Python 3",
   "language": "python",
   "name": "python3"
  },
  "language_info": {
   "codemirror_mode": {
    "name": "ipython",
    "version": 3
   },
   "file_extension": ".py",
   "mimetype": "text/x-python",
   "name": "python",
   "nbconvert_exporter": "python",
   "pygments_lexer": "ipython3",
   "version": "3.8.10"
  },
  "orig_nbformat": 4,
  "vscode": {
   "interpreter": {
    "hash": "916dbcbb3f70747c44a77c7bcd40155683ae19c65e1c03b4aa3499c5328201f1"
   }
  }
 },
 "nbformat": 4,
 "nbformat_minor": 2
}
