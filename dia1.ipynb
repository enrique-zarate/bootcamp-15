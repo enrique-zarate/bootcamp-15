{
 "cells": [
  {
   "cell_type": "code",
   "execution_count": 6,
   "metadata": {},
   "outputs": [
    {
     "name": "stdout",
     "output_type": "stream",
     "text": [
      "Hola Boocamp\n",
      "Hola Boocamp\n"
     ]
    }
   ],
   "source": [
    "print(\"Hola Boocamp\")\n",
    "print(\"Hola Boocamp\")"
   ]
  },
  {
   "attachments": {},
   "cell_type": "markdown",
   "metadata": {},
   "source": [
    "Hola, hoy veremos variables"
   ]
  },
  {
   "attachments": {},
   "cell_type": "markdown",
   "metadata": {},
   "source": [
    "# Variables"
   ]
  },
  {
   "cell_type": "code",
   "execution_count": 16,
   "metadata": {},
   "outputs": [
    {
     "name": "stdout",
     "output_type": "stream",
     "text": [
      "Hola, soy Juan\n"
     ]
    }
   ],
   "source": [
    "print(\"Hola, soy Juan\")"
   ]
  },
  {
   "cell_type": "code",
   "execution_count": 10,
   "metadata": {},
   "outputs": [],
   "source": [
    "mi_variable = \"Enrique\"\n",
    "mi_coach = \"Dani\"\n",
    "mi_mentor = \"Blanqui\""
   ]
  },
  {
   "cell_type": "code",
   "execution_count": 20,
   "metadata": {},
   "outputs": [
    {
     "name": "stdout",
     "output_type": "stream",
     "text": [
      "Enrique\n",
      "Dani\n",
      "Blanqui\n"
     ]
    }
   ],
   "source": [
    "print(mi_variable)\n",
    "print(mi_coach)\n",
    "print(mi_mentor)"
   ]
  },
  {
   "attachments": {},
   "cell_type": "markdown",
   "metadata": {},
   "source": [
    "## Ejercicio\n",
    "Crear variables con sus datos en un bloque de código e imprimirlos en otro bloque."
   ]
  },
  {
   "cell_type": "code",
   "execution_count": 22,
   "metadata": {},
   "outputs": [
    {
     "name": "stdout",
     "output_type": "stream",
     "text": [
      "Enrique\n",
      "Blanqui\n",
      "Dani\n"
     ]
    }
   ],
   "source": [
    "print(mi_variable)\n",
    "\n",
    "\n",
    "print(mi_mentor)\n",
    "print(mi_coach)"
   ]
  },
  {
   "attachments": {},
   "cell_type": "markdown",
   "metadata": {},
   "source": [
    "##  Tipos de datos"
   ]
  },
  {
   "cell_type": "code",
   "execution_count": 25,
   "metadata": {},
   "outputs": [
    {
     "name": "stdout",
     "output_type": "stream",
     "text": [
      "Hola Mundo!!!\n",
      "505\n"
     ]
    }
   ],
   "source": [
    "print(\"Hola Mundo!!!\")\n",
    "print(505)"
   ]
  },
  {
   "cell_type": "code",
   "execution_count": 41,
   "metadata": {},
   "outputs": [],
   "source": [
    "edad = 22       # numero entero > integer > int\n",
    "peso = 30.5     # numero decimal > floating > float\n",
    "nombre_coach = \"Dani\" # Texto > string > str\n",
    "es_mayor = False  # Booleano > bool"
   ]
  },
  {
   "cell_type": "code",
   "execution_count": null,
   "metadata": {},
   "outputs": [],
   "source": [
    "# En Python, usamos snake_case\n",
    "es_mayor\n",
    "mi_coach\n",
    "mi_mentor"
   ]
  },
  {
   "attachments": {},
   "cell_type": "markdown",
   "metadata": {},
   "source": [
    "## aritmética"
   ]
  },
  {
   "cell_type": "code",
   "execution_count": 36,
   "metadata": {},
   "outputs": [
    {
     "name": "stdout",
     "output_type": "stream",
     "text": [
      "100012000\n"
     ]
    }
   ],
   "source": [
    "precio1 = \"1000\"\n",
    "precio2 = \"12000\"\n",
    "\n",
    "# calcular el total\n",
    "print(precio1 + precio2)"
   ]
  },
  {
   "cell_type": "code",
   "execution_count": 39,
   "metadata": {},
   "outputs": [
    {
     "name": "stdout",
     "output_type": "stream",
     "text": [
      "25000\n"
     ]
    }
   ],
   "source": [
    "# Multiplicacion\n",
    "precio1 = 105555\n",
    "cantidad = 9\n",
    "resultado = precio1 * cantidad\n",
    "print(resultado)"
   ]
  },
  {
   "cell_type": "code",
   "execution_count": 42,
   "metadata": {},
   "outputs": [
    {
     "name": "stdout",
     "output_type": "stream",
     "text": [
      "8333.333333333334\n"
     ]
    }
   ],
   "source": [
    "# Division\n",
    "cantidad_personas = 3\n",
    "cada_uno_debe_pagar = resultado / cantidad_personas\n",
    "print(cada_uno_debe_pagar)"
   ]
  },
  {
   "attachments": {},
   "cell_type": "markdown",
   "metadata": {},
   "source": [
    "## Challenge 🤺 - 15m\n",
    "Suma: asignar dos números en dos variables diferentes `cantidad_de_manzanas` y `cantidad_de_naranjas`. Luego sumar ambas variables en `cantidad_de_frutas`. Imprimir la última variable.\n",
    "\n",
    "Resta: asignar un valor numérico a la variable `frutas_vendidas`. Luego, asignar la resta entre `cantidad_de_frutas` y `frutas_vendidas` a la variable `frutas_restantes`. Imprimir la última variable"
   ]
  },
  {
   "attachments": {},
   "cell_type": "markdown",
   "metadata": {},
   "source": [
    "# Solucion de César 🚗"
   ]
  },
  {
   "cell_type": "code",
   "execution_count": 44,
   "metadata": {},
   "outputs": [
    {
     "name": "stdout",
     "output_type": "stream",
     "text": [
      "52\n",
      "37\n"
     ]
    }
   ],
   "source": [
    "M = 12\n",
    "N = 40\n",
    "cantidad_de_frutas = M + N\n",
    "print(cantidad_de_frutas)\n",
    "frutas_vendidas = 15\n",
    "frutas_restantes = cantidad_de_frutas - frutas_vendidas\n",
    "print(frutas_restantes)"
   ]
  },
  {
   "attachments": {},
   "cell_type": "markdown",
   "metadata": {},
   "source": [
    "## JUGANDO CON TEXTO"
   ]
  },
  {
   "cell_type": "code",
   "execution_count": 52,
   "metadata": {},
   "outputs": [
    {
     "name": "stdout",
     "output_type": "stream",
     "text": [
      "Tu nombre es: Enrique Zarate\n",
      "Enrique Zarate\n"
     ]
    }
   ],
   "source": [
    "nombre = \"Enrique\"\n",
    "apellido = \"Zarate\"\n",
    "print(\"Tu nombre es: Enrique Zarate\")\n",
    "\n",
    "nombre_completo = nombre + \" \" + apellido\n",
    "\n",
    "print(nombre_completo)"
   ]
  },
  {
   "cell_type": "code",
   "execution_count": 62,
   "metadata": {},
   "outputs": [
    {
     "name": "stdout",
     "output_type": "stream",
     "text": [
      "Tu nombre es: Enrique Zarate y tiene 22 anhos\n"
     ]
    }
   ],
   "source": [
    "print(f\"Tu nombre es: {nombre_completo} y tiene 22 anhos\")"
   ]
  },
  {
   "attachments": {},
   "cell_type": "markdown",
   "metadata": {},
   "source": [
    "## Challenge 🤺 - 15m\n",
    "\n",
    "Crear un app Vaquita:\n",
    "- Declarar el monto total a pagar\n",
    "- La cantidad de personas \n",
    "Al final, imprimir el monto que debe pagar cada persona de la siguiente forma:\n",
    "\"El monto a pagar es de 10000 guaranes. Cada persona debe pagar 2000 guaranies.\""
   ]
  },
  {
   "cell_type": "code",
   "execution_count": 64,
   "metadata": {},
   "outputs": [],
   "source": [
    "costo_de_venta = 5000\n",
    "ganancia = costo_de_venta * 1000"
   ]
  },
  {
   "attachments": {},
   "cell_type": "markdown",
   "metadata": {},
   "source": [
    "# Solución Florencia 🚲"
   ]
  },
  {
   "cell_type": "code",
   "execution_count": 65,
   "metadata": {},
   "outputs": [
    {
     "name": "stdout",
     "output_type": "stream",
     "text": [
      "El monto a pagar es de 200000. Cada persona debe pagar 40000.0 guaranies\n"
     ]
    }
   ],
   "source": [
    "#Challenge\n",
    "#Crear un app Vaquita:\n",
    "#- Declarar el monto total a pagar\n",
    "#- La cantidad de personas \n",
    "#Al final, imprimir el monto que debe pagar cada persona de la siguiente forma:\n",
    "#\"El monto a pagar es de 10000 guaranes. Cada persona debe pagar 2000 guaranies.\" \n",
    "monto_total_a_pagar = 200000\n",
    "cantidad_de_personas = 5\n",
    "monto_individual = monto_total_a_pagar / cantidad_de_personas\n",
    "\n",
    "\n",
    "print(f\"El monto a pagar es de {monto_total_a_pagar}. Cada persona debe pagar {monto_individual} guaranies\")"
   ]
  },
  {
   "attachments": {},
   "cell_type": "markdown",
   "metadata": {},
   "source": [
    "# Solución de Mauri 🚛"
   ]
  },
  {
   "cell_type": "code",
   "execution_count": 66,
   "metadata": {},
   "outputs": [
    {
     "name": "stdout",
     "output_type": "stream",
     "text": [
      "El monto total a pagar es de 100000 guaranies. Cada persona debe pagar 10000.0 \n"
     ]
    }
   ],
   "source": [
    "monto_total_a_pagar = 100000\n",
    "cantidad_de_personas = 10\n",
    "print(f\"El monto total a pagar es de {monto_total_a_pagar} guaranies. Cada persona debe pagar {monto_total_a_pagar / cantidad_de_personas} \")"
   ]
  },
  {
   "attachments": {},
   "cell_type": "markdown",
   "metadata": {},
   "source": [
    "# Obteniendo datos del usuario"
   ]
  },
  {
   "cell_type": "code",
   "execution_count": 74,
   "metadata": {},
   "outputs": [
    {
     "name": "stdout",
     "output_type": "stream",
     "text": [
      "El chocolate cuesta 10000\n",
      "El jugo de pomelo cuesta 20000\n"
     ]
    }
   ],
   "source": [
    "producto1 = input(\"Ingrese el primer producto\")\n",
    "precio = input(\"Ingrese el precio\")\n",
    "print(f\"El {producto1} cuesta {precio}\")\n",
    "\n",
    "producto2 = input(\"Ingrese el segundo producto\")\n",
    "precio = input(\"Ingrese el precio\")\n",
    "print(f\"El {producto2} cuesta {precio}\")"
   ]
  },
  {
   "cell_type": "code",
   "execution_count": 78,
   "metadata": {},
   "outputs": [
    {
     "name": "stdout",
     "output_type": "stream",
     "text": [
      "<class 'int'>\n",
      "<class 'str'>\n"
     ]
    }
   ],
   "source": [
    "un_numero = 500\n",
    "una_palabra = \"Hola\"\n",
    "print(type(un_numero))\n",
    "print(type(una_palabra))"
   ]
  },
  {
   "cell_type": "code",
   "execution_count": 82,
   "metadata": {},
   "outputs": [
    {
     "name": "stdout",
     "output_type": "stream",
     "text": [
      "El total a pagar es de: 30000\n"
     ]
    }
   ],
   "source": [
    "# Obtener el total de los productos\n",
    "\n",
    "# Solicitar datos\n",
    "precio1 = input(\"Ingrese el precio\")\n",
    "cantidad1 = input(\"Ingrese la cantidad\")\n",
    "\n",
    "# Transformar los datos\n",
    "precio1_numero = int(precio1)   # pasa de str a int\n",
    "cantidad1_numero = int(cantidad1)   # pasa de str a int\n",
    "\n",
    "\n",
    "total = precio1_numero * cantidad1_numero\n",
    "print(f\"El total a pagar es de: {total}\")"
   ]
  },
  {
   "cell_type": "code",
   "execution_count": 79,
   "metadata": {},
   "outputs": [
    {
     "name": "stdout",
     "output_type": "stream",
     "text": [
      "<class 'str'>\n",
      "<class 'str'>\n"
     ]
    }
   ],
   "source": [
    "print(type(precio1))\n",
    "print(type(cantidad1))\n"
   ]
  },
  {
   "cell_type": "code",
   "execution_count": null,
   "metadata": {},
   "outputs": [],
   "source": [
    "# Primero: el nombre\n",
    "# Segundo: precio del producto\n",
    "# Tercero: cantidad del producto\n",
    "\n",
    "# Cuarto: multiplicar la cantidad de prod. por el precio\n",
    "# Quinto: imprimir"
   ]
  },
  {
   "attachments": {},
   "cell_type": "markdown",
   "metadata": {},
   "source": [
    "### Challenge 🤺 - 15m\n",
    "\n",
    "Solicitar al usuario ingresar dos productos y almacenar sus precios y cantidades. Luego, imprimir la suma de los precios de cada productos.\n",
    "\n",
    "Sugerencia: convertir los precios a números enteros antes de multiplicarlos.\n",
    "\n",
    "Ejemplo resultado:\n",
    "- Los panes alcanzan: 12000\n",
    "- Los chocolates alcanzan: 23000"
   ]
  },
  {
   "attachments": {},
   "cell_type": "markdown",
   "metadata": {},
   "source": [
    "# Solución de Diego 🪂"
   ]
  },
  {
   "cell_type": "code",
   "execution_count": 83,
   "metadata": {},
   "outputs": [
    {
     "name": "stdout",
     "output_type": "stream",
     "text": [
      "El precio total del producto Leche es: 30000.\n",
      " El precio total del producto  Chocolate es: 112000.\n",
      "El total a pagar es:  142000\n",
      "Gracias por su compra!\n"
     ]
    }
   ],
   "source": [
    "producto1 = input(\"Ingrese el producto\")\n",
    "cantidad1 = input(\"Ingrese la cantidad\")\n",
    "precio1 = input(\"Ingrese el precio\")\n",
    "iva1 = input\n",
    "precio1_numero = int(precio1)\n",
    "cantidad1_numero = int(cantidad1)\n",
    "\n",
    "# Lo mismo pero para el producto 2\n",
    "producto2 = input(\"Ingrese el producto\")\n",
    "cantidad2 = input(\"Ingrese la cantidad\")\n",
    "precio2 = input (\"Ingrese el precio\")\n",
    "cantidad2_numero = int(cantidad2)\n",
    "precio2_numero = int(precio2)\n",
    "\n",
    "total_producto1 = precio1_numero * cantidad1_numero\n",
    "total_producto2 = precio2_numero * cantidad2_numero\n",
    "\n",
    "print(f\"El precio total del producto {producto1} es: {total_producto1}.\")\n",
    "print(f\"El precio total del producto {producto2} es: {total_producto2}.\")\n",
    "print(f\"El total a pagar es: {total_producto1 + total_producto2}\")\n",
    "print(\"Gracias por su compra!\")"
   ]
  },
  {
   "attachments": {},
   "cell_type": "markdown",
   "metadata": {},
   "source": [
    "# Funciones"
   ]
  },
  {
   "attachments": {},
   "cell_type": "markdown",
   "metadata": {},
   "source": [
    "Las funciones son un conjunto de instrucciones de una operacion que quisieramos volver a repetir en diferentes partes de nuestro programa. \n",
    "\n",
    "Las funciones existen para permitirnos re utilizar codigo que ya escribimos anteriormente, sin la necesidad de volver a escribirlo."
   ]
  },
  {
   "cell_type": "code",
   "execution_count": 88,
   "metadata": {},
   "outputs": [],
   "source": [
    "# Anatomia de la funcion\n",
    "\n",
    "def solicitar_datos():      # def, nombre de la func, parentesis y dos puntos\n",
    "    saludo = \"Hola!\"        # identacion: un tabulador"
   ]
  },
  {
   "cell_type": "code",
   "execution_count": 92,
   "metadata": {},
   "outputs": [
    {
     "name": "stdout",
     "output_type": "stream",
     "text": [
      "El valor total de choco es de 14400\n",
      "El valor total de Pan es de 28106\n",
      "El valor total de Yoghurt es de 24000\n",
      "El valor total de Masamadre es de 46000\n"
     ]
    }
   ],
   "source": [
    "# version sin funcion\n",
    "# producto1 = input(\"Ingrese el producto\")\n",
    "# cantidad1 = input(\"Ingrese la cantidad\")\n",
    "# precio1 = input(\"Ingrese el precio\")\n",
    "# precio1_numero = int(precio1)\n",
    "# cantidad1_numero = int(cantidad1)\n",
    "\n",
    "# version con funcion\n",
    "def solicitar_dato_producto():      # definicion\n",
    "    nombre_producto = input(\"Ingrese el nombre del producto\")\n",
    "    cantidad_producto = int(input(\"Ingrese la cantidad del producto\"))\n",
    "    precio_producto = int(input(\"Ingrese el precio del producto\"))\n",
    "    iva = input(\"dame Iva\")\n",
    "    print(f\"El valor total de {nombre_producto} es de {cantidad_producto * precio_producto}\")\n",
    "\n",
    "solicitar_dato_producto() # llamada o usar la funcion\n",
    "solicitar_dato_producto()\n",
    "solicitar_dato_producto()\n",
    "solicitar_dato_producto()"
   ]
  },
  {
   "attachments": {},
   "cell_type": "markdown",
   "metadata": {},
   "source": [
    "## Challenge 🤺 - 15m\n",
    "\n",
    "Crear una función para su presupuesto mensual y que imprima cuanto dinero les sobra.\n",
    "Ejecutar la función 3 veces."
   ]
  }
 ],
 "metadata": {
  "kernelspec": {
   "display_name": "Python 3",
   "language": "python",
   "name": "python3"
  },
  "language_info": {
   "codemirror_mode": {
    "name": "ipython",
    "version": 3
   },
   "file_extension": ".py",
   "mimetype": "text/x-python",
   "name": "python",
   "nbconvert_exporter": "python",
   "pygments_lexer": "ipython3",
   "version": "3.10.4 (tags/v3.10.4:9d38120, Mar 23 2022, 23:13:41) [MSC v.1929 64 bit (AMD64)]"
  },
  "orig_nbformat": 4,
  "vscode": {
   "interpreter": {
    "hash": "506a9209bd727cc3343bd9278012b41e70ba14f5131a964bc7c3c446ae016de2"
   }
  }
 },
 "nbformat": 4,
 "nbformat_minor": 2
}
