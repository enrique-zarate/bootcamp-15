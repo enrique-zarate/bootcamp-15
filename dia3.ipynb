{
 "cells": [
  {
   "attachments": {},
   "cell_type": "markdown",
   "metadata": {},
   "source": [
    "Necesitamos lo siguiente:\n",
    "\n",
    "    - Variables\n",
    "    - Tipos de datos\n",
    "    - Concatenación\n",
    "    - Operadores lógicos\n",
    "    - Condicionales (control de flujo)\n",
    "    - Funciones (propias & built-in)\n",
    "    - Bucles"
   ]
  },
  {
   "attachments": {},
   "cell_type": "markdown",
   "metadata": {},
   "source": [
    "# Parametros y argumentos"
   ]
  },
  {
   "cell_type": "code",
   "execution_count": 5,
   "metadata": {},
   "outputs": [
    {
     "name": "stdout",
     "output_type": "stream",
     "text": [
      "Hola Pepe\n",
      "Hola Pepe\n"
     ]
    }
   ],
   "source": [
    "# Funciones\n",
    "\n",
    "nombre1 = \"Juan\"\n",
    "nombre2 = \"Pepe\"\n",
    "\n",
    "input_nombre = input(\"ingrese el nombre\")\n",
    "\n",
    "def imprimir_saludo():      # nombre de la funcion, va en verbo inf.\n",
    "    \n",
    "    print(f\"Hola {nombre2}\")\n",
    "\n",
    "imprimir_saludo()\n",
    "imprimir_saludo()\n",
    "# Problema: la funcion solo toma un dato a la vez"
   ]
  },
  {
   "cell_type": "code",
   "execution_count": 12,
   "metadata": {},
   "outputs": [
    {
     "name": "stdout",
     "output_type": "stream",
     "text": [
      "Hola Juan!!!!!!!\n",
      "Hola Pepe!!!!!!!\n"
     ]
    }
   ],
   "source": [
    "def imprimir_nombre(n):\n",
    "    print(f\"Hola {n}!!!!!!!\")\n",
    "\n",
    "nombre = \"Enri\"\n",
    "\n",
    "imprimir_nombre(n=\"Juan\")\n",
    "imprimir_nombre(n=\"Pepe\")"
   ]
  },
  {
   "cell_type": "code",
   "execution_count": 17,
   "metadata": {},
   "outputs": [
    {
     "name": "stdout",
     "output_type": "stream",
     "text": [
      "Coloca en el termo el Caldo\n",
      "Espera 5 minutos\n",
      "Servite bien fria el Caldo\n",
      "------------\n",
      "Coloca en el termo el Monster\n",
      "Espera 5 minutos\n",
      "Servite bien fria el Monster\n",
      "------------\n",
      "Coloca en el termo el cafe\n",
      "Espera 5 minutos\n",
      "Servite bien fria el cafe\n",
      "------------\n"
     ]
    }
   ],
   "source": [
    "def enfriar_en_termo(liquido, cant_hielo):\n",
    "    print(f\"Coloca en el termo el {liquido}\")\n",
    "    print(\"Espera 5 minutos\")\n",
    "    print(f\"Servite bien fria el {liquido}\")\n",
    "    print(\"------------\")\n",
    "\n",
    "usuario_input = input(\"Hola! Ingrese su bebida\")\n",
    "enfriar_en_termo(liquido=usuario_input, cant_hielo=6)\n",
    "\n",
    "usuario_input = input(\"Hola! Ingrese su bebida\")\n",
    "enfriar_en_termo(liquido=usuario_input)\n",
    "\n",
    "enfriar_en_termo(liquido=\"cafe\")"
   ]
  },
  {
   "attachments": {},
   "cell_type": "markdown",
   "metadata": {},
   "source": [
    "## Challenge 🤺 - 15 min\n",
    "Crear una función que reciba dos letras (parámetros) y que verifique si son iguales:\n",
    "\n",
    "1. Si son iguales, imprimir \"Las letras son iguales\".\n",
    "\n",
    "2. De lo contrario, imprimir \"Las letras son diferentes\".\n",
    "\n",
    "Tip: se pueden pasar, tantos datos como se necesiten. Usando una coma"
   ]
  },
  {
   "attachments": {},
   "cell_type": "markdown",
   "metadata": {},
   "source": [
    "# Solucion de Oscar Acosta 📰"
   ]
  },
  {
   "cell_type": "code",
   "execution_count": 19,
   "metadata": {},
   "outputs": [
    {
     "name": "stdout",
     "output_type": "stream",
     "text": [
      "Las letras son iguales\n"
     ]
    }
   ],
   "source": [
    "def igual_o_no(letra1,letra2): #parametros\n",
    "    if letra1 == letra2:\n",
    "        print(\"Las letras son iguales\")\n",
    "    else:\n",
    "        print(\"Las letras son diferentes\")\n",
    " \n",
    "input_letra1 = input(\"Ingrese primera letra: \") \n",
    "input_letra2 = input(\"Ingrese segunda letra: \") \n",
    "igual_o_no(input_letra1,input_letra2)           #letra1 = input_letra1, letra2=input_letra2"
   ]
  },
  {
   "attachments": {},
   "cell_type": "markdown",
   "metadata": {},
   "source": [
    "# Solucion de Ale 🧵"
   ]
  },
  {
   "cell_type": "code",
   "execution_count": 21,
   "metadata": {},
   "outputs": [
    {
     "name": "stdout",
     "output_type": "stream",
     "text": [
      "Las letras son iguales\n"
     ]
    }
   ],
   "source": [
    "def verificacion_letras (letra1,letra2):    \n",
    "    if letra1 == letra2:        \n",
    "        print(\"Las letras son iguales\")    \n",
    "    else:        \n",
    "        print (\"las letras son diferentes\")    \n",
    "\n",
    "input_letra1 = input(\"Ingrese una letra1\")\n",
    "input_letra2 = input(\"Ingrese una letra2\")\n",
    "\n",
    "verificacion_letras(letra1=input_letra1, letra2=input_letra2)\n",
    "# verificacion_letras( n=letra1, m=letra2)"
   ]
  },
  {
   "cell_type": "code",
   "execution_count": null,
   "metadata": {},
   "outputs": [],
   "source": [
    "igual_o_no()\n",
    "verificacion_letras()"
   ]
  },
  {
   "attachments": {},
   "cell_type": "markdown",
   "metadata": {},
   "source": [
    "# Repaso: return"
   ]
  },
  {
   "cell_type": "code",
   "execution_count": 25,
   "metadata": {},
   "outputs": [
    {
     "name": "stdout",
     "output_type": "stream",
     "text": [
      "El total del dia es 165000\n"
     ]
    }
   ],
   "source": [
    "# calcular el total de compras\n",
    "def calcular_total(monto, cantidad):\n",
    "    total = monto * cantidad        # variable local\n",
    "    #print(f\"El total es {total}\")\n",
    "    return total\n",
    "\n",
    "# Compra 1 -> cliente 1\n",
    "monto_producto = 5000\n",
    "cantidad_producto = 3\n",
    "\n",
    "total1 = calcular_total(monto_producto, cantidad_producto)  # si no especifico, es por orden\n",
    "\n",
    "# Compra 2 -> cliente 2\n",
    "monto_producto = 25000\n",
    "cantidad_producto = 6\n",
    "\n",
    "total2 = calcular_total(monto=monto_producto, cantidad=cantidad_producto)\n",
    "\n",
    "total_del_dia = total1 + total2\n",
    "print(f\"El total del dia es {total_del_dia}\")"
   ]
  },
  {
   "attachments": {},
   "cell_type": "markdown",
   "metadata": {},
   "source": [
    "# Verificacion de existencia: `in`"
   ]
  },
  {
   "cell_type": "code",
   "execution_count": 29,
   "metadata": {},
   "outputs": [
    {
     "name": "stdout",
     "output_type": "stream",
     "text": [
      "Eju lune\n"
     ]
    }
   ],
   "source": [
    "fruta_pedido_cliente = \"Pomelo\"\n",
    "\n",
    "stock_de_frutas = [\"Frutilla\", \"Pinha\", \"Banana\"]\n",
    "\n",
    "existe_fruta = fruta_pedido_cliente in stock_de_frutas             # booleano\n",
    "\n",
    "es_mayor_edad = edad_usuario > 18   # tambien funciona en mayor o menor\n",
    "\n",
    "if existe_fruta:\n",
    "    print(\"Disponible!\")\n",
    "else:\n",
    "    print(\"Eju lune\")"
   ]
  },
  {
   "attachments": {},
   "cell_type": "markdown",
   "metadata": {},
   "source": [
    "## Challenge 🤺 - 15 min\n",
    "Crear función que revise si una palabra contiene una letra. En caso de que la contenga, retornar la letra entre corchetes `[]`. De lo contrario, retornar solo la letra."
   ]
  },
  {
   "attachments": {},
   "cell_type": "markdown",
   "metadata": {},
   "source": [
    "# Solucion de Mau ricio 🥼"
   ]
  },
  {
   "cell_type": "code",
   "execution_count": 36,
   "metadata": {},
   "outputs": [
    {
     "name": "stdout",
     "output_type": "stream",
     "text": [
      "D\n"
     ]
    }
   ],
   "source": [
    "input_palabra = input(\"Ingrese aqui la palabra\")\n",
    "input_letra = input(\"Ingrese letra aqui\")\n",
    "\n",
    "def funcion(palabra, letra):\n",
    "    if letra in palabra:\n",
    "        return f\"[{letra}]\"\n",
    "    else:\n",
    "        return letra\n",
    "\n",
    "retornar = funcion(input_palabra, input_letra)\n",
    "\n",
    "print(retornar)"
   ]
  },
  {
   "attachments": {},
   "cell_type": "markdown",
   "metadata": {},
   "source": [
    "# Como hacer de una palabra, una lista: `list()`"
   ]
  },
  {
   "cell_type": "code",
   "execution_count": 37,
   "metadata": {},
   "outputs": [
    {
     "name": "stdout",
     "output_type": "stream",
     "text": [
      "['q', 'u', 'e', 's', 'o']\n"
     ]
    }
   ],
   "source": [
    "print(list(\"queso\"))"
   ]
  },
  {
   "cell_type": "code",
   "execution_count": 38,
   "metadata": {},
   "outputs": [
    {
     "name": "stdout",
     "output_type": "stream",
     "text": [
      "['q', 'u', 'e', 's', 'o']\n"
     ]
    }
   ],
   "source": [
    "palabra_ingresada = \"queso\"\n",
    "lista_de_letras = list(palabra_ingresada)\n",
    "print(lista_de_letras)"
   ]
  },
  {
   "attachments": {},
   "cell_type": "markdown",
   "metadata": {},
   "source": [
    "## Challenge 5 🤺 - 15m\n",
    "\n",
    "Pedir al usuario que ingrese 1 palabra, luego convertir esa palabra a una lista de sus caracteres con `list()`. Agregar esa lista de caracteres a una lista llamada `palabras_ingresadas`. Repetir el proceso 3 veces. Cada vez que se agregue una lista de caracteres, imprimir la lista `palabras_ingresadas`.\n",
    "\n",
    "\n",
    "Ejemplo del resultado esperado:\n",
    "\n",
    "```[['c', 'i', 'e', 'l', 'o']]``` # Al ingresar la primera palabra\n",
    "\n",
    "```[['c', 'i', 'e', 'l', 'o'], ['c', 'a', 'l', 'o', 'r']]``` # Al ingresar la segunda palabra\n",
    "\n",
    "```[['c', 'i', 'e', 'l', 'o'], ['c', 'a', 'l', 'o', 'r'], ['n', 'u', 'b', 'e', 's']]``` # Al ingresar la tercera palabra"
   ]
  },
  {
   "attachments": {},
   "cell_type": "markdown",
   "metadata": {},
   "source": [
    "# Solucion de Florencia 🎍"
   ]
  },
  {
   "cell_type": "code",
   "execution_count": 39,
   "metadata": {},
   "outputs": [
    {
     "name": "stdout",
     "output_type": "stream",
     "text": [
      "[['N', 'U', 'B', 'E', 'S']]\n",
      "[['N', 'U', 'B', 'E', 'S'], ['C', 'I', 'E', 'L', 'O']]\n",
      "[['N', 'U', 'B', 'E', 'S'], ['C', 'I', 'E', 'L', 'O'], ['V', 'I', 'R', 'U', 'S']]\n"
     ]
    }
   ],
   "source": [
    "palabritas_ingresadas = []\n",
    "for iterador in range(3):\n",
    "    palabrita = input(\"Favor ingrese una palabra\")\n",
    "\n",
    "    listita_de_caracteres = list(palabrita)\n",
    "\n",
    "    palabritas_ingresadas.append(listita_de_caracteres)\n",
    "\n",
    "\n",
    "    print(palabritas_ingresadas)"
   ]
  },
  {
   "attachments": {},
   "cell_type": "markdown",
   "metadata": {},
   "source": [
    "# Solucion de Fede 🎈"
   ]
  },
  {
   "cell_type": "code",
   "execution_count": 41,
   "metadata": {},
   "outputs": [
    {
     "name": "stdout",
     "output_type": "stream",
     "text": [
      "[['N', 'U', 'B', 'E', 'S']]\n",
      "[['C', 'I', 'E', 'L', 'O']]\n",
      "[['V', 'I', 'R', 'U', 'S']]\n"
     ]
    }
   ],
   "source": [
    "palabras_ingresadas = []        #funcion \n",
    "                       #lista vacia\n",
    "\n",
    "def palabras():   \n",
    "    palabra_usuario = input(\"ingresar palabra\") #ingresar palabra\n",
    "    lista_palabras=list(palabra_usuario)        #add palabra a lista\n",
    "    palabras_ingresadas.append (lista_palabras) #add lista a lista\n",
    "    print (palabras_ingresadas)                 #print\n",
    "\n",
    "palabras()\n",
    "palabras()\n",
    "palabras()"
   ]
  },
  {
   "attachments": {},
   "cell_type": "markdown",
   "metadata": {},
   "source": [
    "# Solucion de Alma 🎉"
   ]
  },
  {
   "cell_type": "code",
   "execution_count": 42,
   "metadata": {},
   "outputs": [
    {
     "name": "stdout",
     "output_type": "stream",
     "text": [
      "[['N', 'U', 'B', 'E', 'S']]\n",
      "[['N', 'U', 'B', 'E', 'S'], ['C', 'I', 'E', 'L', 'O']]\n",
      "[['N', 'U', 'B', 'E', 'S'], ['C', 'I', 'E', 'L', 'O'], ['V', 'I', 'R', 'U', 'S']]\n"
     ]
    }
   ],
   "source": [
    "lista_vacia = []\n",
    "\n",
    "def deletrear(palabra):\n",
    "\n",
    "    palabra_separada = list(palabra)\n",
    "    return palabra_separada\n",
    "\n",
    "for letra in range(3):\n",
    "    palabra_input = input('Ingrese una palabra: ')\n",
    "\n",
    "    lista_2 = deletrear(palabra_input)\n",
    "    lista_vacia.append(lista_2)\n",
    "\n",
    "    print(lista_vacia)"
   ]
  },
  {
   "attachments": {},
   "cell_type": "markdown",
   "metadata": {},
   "source": [
    "# Bucles"
   ]
  },
  {
   "attachments": {},
   "cell_type": "markdown",
   "metadata": {},
   "source": [
    "    Acercandonos un poco más a nuestro juego, vamos a ver cual es el proceso cada vez que se ingresa una palabra\n",
    "\n",
    "    - Crear una lista vacía `letras_verificadas` para las letras de la palabra luego de ser verificada\n",
    "    - Definir la cantidad de letras de la palabra a encontrar\n",
    "    - Si las letras existen en la palabra a encontrar y sus posiciones coinciden: encerrar en corchetes `[]` y agregar al resultado\n",
    "    - Si las letras existen en la palabra a encontrar: encerrar en parentesis `()` y agregar al resultado\n",
    "    - Si no se cumple ninguna de las anteriores, agregar la letra a la lista vacía sin modificaciones\n",
    "    - Retornar el resultado"
   ]
  },
  {
   "cell_type": "code",
   "execution_count": 45,
   "metadata": {},
   "outputs": [],
   "source": [
    "def verificar_fila(palabra_secreta, palabra_ingresada):\n",
    "    cantidad_permitida_letras = 5   # regla del juego\n",
    "\n",
    "    resultado = []\n",
    "\n",
    "    for posicion in range(cantidad_permitida_letras):\n",
    "\n",
    "        # Si coinciden las posiciones\n",
    "        if palabra_ingresada[posicion] ==  palabra_secreta[posicion]:\n",
    "            letra_encerrada = \"[\" + palabra_ingresada[posicion] + \"]\"\n",
    "            resultado.append(letra_encerrada)\n",
    "        \n",
    "        # Si no coinciden las posiciones \n",
    "        elif palabra_ingresada[posicion] in palabra_secreta:\n",
    "            letra_encerrada = \"(\" + palabra_ingresada[posicion] + \")\"\n",
    "            resultado.append(letra_encerrada)\n",
    "\n",
    "        else:\n",
    "            resultado.append(palabra_ingresada[posicion])\n",
    "\n",
    "    return resultado"
   ]
  },
  {
   "attachments": {},
   "cell_type": "markdown",
   "metadata": {},
   "source": [
    "## Probamos nuestra función (y rezamos para que funcione)"
   ]
  },
  {
   "cell_type": "code",
   "execution_count": 47,
   "metadata": {},
   "outputs": [
    {
     "data": {
      "text/plain": [
       "['[p]', '[e]', '[n]', '[g]', '[u]']"
      ]
     },
     "execution_count": 47,
     "metadata": {},
     "output_type": "execute_result"
    }
   ],
   "source": [
    "palabra_usuario = input(\"Ingrese una palabra\")\n",
    "\n",
    "palabra_secreta = \"pengu\"\n",
    "\n",
    "verificar_fila(palabra_secreta, palabra_usuario)"
   ]
  },
  {
   "attachments": {},
   "cell_type": "markdown",
   "metadata": {},
   "source": [
    "# Como salir de un bucle anticipadamente: `break`"
   ]
  },
  {
   "cell_type": "code",
   "execution_count": 48,
   "metadata": {},
   "outputs": [],
   "source": [
    "palabra_secreta = \"pingu\"\n",
    "\n",
    "intentos = 5\n",
    "\n",
    "palabra_usuario = input(\"Ingrese una palabra\")\n",
    "\n",
    "# preguntar al usuario por una palabra hasta que:\n",
    "## - se acaben los intentos\n",
    "## - acertas la palabra\n",
    "\n",
    "while palabra_usuario != palabra_secreta:\n",
    "\n",
    "    intentos = intentos - 1\n",
    "\n",
    "    palabra_usuario = input(\"Ingrese una palabra\")\n",
    "    \n",
    "    if intentos == 0:\n",
    "        break"
   ]
  },
  {
   "attachments": {},
   "cell_type": "markdown",
   "metadata": {},
   "source": [
    "## Challenge 🤺 - 20m\n",
    "\n",
    "Dada la lista de ejemplo: \n",
    "\n",
    "lista = [['h', 'o', 'l', 'i', 's'], ['h', 'e', 'l', 'l', 'o'], ['h', 'a', 'l', 'l', 'o']]\n",
    "\n",
    "Crear una función que imprima una grilla (lista de listas), una línea por cada lista dentro de la lista principal.\n",
    "\n",
    "Ejemplo del resultado esperado:\n",
    "\n",
    "```\n",
    "['h', 'o', 'l', 'i', 's']\n",
    "['h', 'e', 'l', 'l', 'o']\n",
    "['h', 'a', 'l', 'l', 'o']\n",
    "```"
   ]
  },
  {
   "cell_type": "code",
   "execution_count": null,
   "metadata": {},
   "outputs": [],
   "source": [
    "lista = [['h', 'o', 'l', 'i', 's'], ['h', 'e', 'l', 'l', 'o'], ['h', 'a', 'l', 'l', 'o']]\n",
    "\n",
    "asldkvadslkvadfvad"
   ]
  },
  {
   "attachments": {},
   "cell_type": "markdown",
   "metadata": {},
   "source": [
    "# Solucion de Enrique 🎃"
   ]
  },
  {
   "cell_type": "code",
   "execution_count": 53,
   "metadata": {},
   "outputs": [
    {
     "name": "stdout",
     "output_type": "stream",
     "text": [
      "['h', 'o', 'l', 'i', 's']\n",
      "['h', 'e', 'l', 'l', 'o']\n",
      "['h', 'a', 'l', 'l', 'o']\n",
      "['h', 'o', 'l', 'i', 's']\n",
      "['h', 'e', 'l', 'l', 'o']\n",
      "['h', 'i', 'l', 'l', 'o']\n"
     ]
    }
   ],
   "source": [
    "lista_de_palabras = [['h', 'o', 'l', 'i', 's'], ['h', 'e', 'l', 'l', 'o'], ['h', 'a', 'l', 'l', 'o']]\n",
    "\n",
    "def grilla(lista):\n",
    "    for posicion in lista:\n",
    "        print(posicion)\n",
    "\n",
    "grilla(lista_de_palabras)\n",
    "\n",
    "lista_de_listas2 = [['h', 'o', 'l', 'i', 's'], ['h', 'e', 'l', 'l', 'o'], ['h', 'i', 'l', 'l', 'o']]\n",
    "\n",
    "grilla(lista_de_listas2)"
   ]
  },
  {
   "attachments": {},
   "cell_type": "markdown",
   "metadata": {},
   "source": [
    "# Solucion de Lucia 🩳"
   ]
  },
  {
   "cell_type": "code",
   "execution_count": 52,
   "metadata": {},
   "outputs": [
    {
     "name": "stdout",
     "output_type": "stream",
     "text": [
      "['h', 'o', 'l', 'i', 's']\n",
      "['h', 'e', 'l', 'l', 'o']\n",
      "['h', 'a', 'l', 'l', 'o']\n",
      "['h', 'o', 'l', 'i', 's']\n",
      "['h', 'e', 'l', 'l', 'o']\n",
      "['h', 'a', 'l', 'l', 'o']\n"
     ]
    }
   ],
   "source": [
    "lista_de_listas = [['h', 'o', 'l', 'i', 's'], ['h', 'e', 'l', 'l', 'o'], ['h', 'a', 'l', 'l', 'o']]\n",
    "\n",
    "def imprimir():\n",
    "    for palabras in lista_de_listas:\n",
    "        print(palabras) \n",
    "\n",
    "imprimir()\n",
    "\n",
    "lista_de_listas2 = [['h', 'o', 'l', 'i', 's'], ['h', 'e', 'l', 'l', 'o'], ['h', 'i', 'l', 'l', 'o']]\n",
    "imprimir()"
   ]
  },
  {
   "cell_type": "code",
   "execution_count": null,
   "metadata": {},
   "outputs": [],
   "source": [
    "lista = [['h', 'o', 'l', 'i', 's'], ['h', 'e', 'l', 'l', 'o'], ['h', 'a', 'l', 'l', 'o']]\n",
    "\n",
    "def separar(separar_lista):\n",
    "\n",
    "    for elemento in separar_lista:\n",
    "        print(elemento)\n",
    "\n",
    "separar(separar_lista = lista)"
   ]
  },
  {
   "attachments": {},
   "cell_type": "markdown",
   "metadata": {},
   "source": [
    "# ¿Y si unimos todo? 💥💥💥💥💥💥💥"
   ]
  }
 ],
 "metadata": {
  "kernelspec": {
   "display_name": "Python 3",
   "language": "python",
   "name": "python3"
  },
  "language_info": {
   "codemirror_mode": {
    "name": "ipython",
    "version": 3
   },
   "file_extension": ".py",
   "mimetype": "text/x-python",
   "name": "python",
   "nbconvert_exporter": "python",
   "pygments_lexer": "ipython3",
   "version": "3.8.10"
  },
  "orig_nbformat": 4,
  "vscode": {
   "interpreter": {
    "hash": "916dbcbb3f70747c44a77c7bcd40155683ae19c65e1c03b4aa3499c5328201f1"
   }
  }
 },
 "nbformat": 4,
 "nbformat_minor": 2
}
